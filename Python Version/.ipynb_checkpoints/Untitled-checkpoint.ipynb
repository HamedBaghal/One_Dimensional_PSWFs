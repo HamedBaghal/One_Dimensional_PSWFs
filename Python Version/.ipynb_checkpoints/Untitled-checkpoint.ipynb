{
 "cells": [
  {
   "cell_type": "code",
   "execution_count": 20,
   "metadata": {},
   "outputs": [],
   "source": [
    "import math"
   ]
  },
  {
   "cell_type": "code",
   "execution_count": 9,
   "metadata": {},
   "outputs": [],
   "source": [
    "import numpy"
   ]
  },
  {
   "cell_type": "code",
   "execution_count": 34,
   "metadata": {},
   "outputs": [],
   "source": [
    "def prolatematrix(c,m): \n",
    "    M=numpy.zeros((m,m))\n",
    "    for i in range(m-2): \n",
    "        M[i,i+2]=(4*(math.pi)**2*c**2)*(i+2)*(i+1)/((2*i+3)*math.sqrt((2*i+5)*(2*i+1)))\n",
    "    for i in range(m):\n",
    "        M[i,i]=(i+1)*i+((4*(math.pi)**2*c**2)*(2*i**2+2*i-1))/((2*i+3)*(2*i-1))\n",
    "    for i in range(m-2):\n",
    "        M[i+2,i]=(4*(math.pi)**2*c**2)*(i+2)*(i+1)/((2*i+3)*math.sqrt((2*i+5)*(2*i+1)))\n",
    "    return M"
   ]
  },
  {
   "cell_type": "code",
   "execution_count": 35,
   "metadata": {},
   "outputs": [
    {
     "data": {
      "text/plain": [
       "array([[13.15947253,  0.        , 11.77019005],\n",
       "       [ 0.        , 25.68705056,  0.        ],\n",
       "       [11.77019005,  0.        , 26.67917113]])"
      ]
     },
     "execution_count": 35,
     "metadata": {},
     "output_type": "execute_result"
    }
   ],
   "source": [
    "prolatematrix(1,3)"
   ]
  }
 ],
 "metadata": {
  "kernelspec": {
   "display_name": "Python 3.7.4 64-bit ('hamedTen': conda)",
   "language": "python",
   "name": "python37464bithamedtenconda998346e31f6b4d3cbde9e37b35089b84"
  },
  "language_info": {
   "codemirror_mode": {
    "name": "ipython",
    "version": 3
   },
   "file_extension": ".py",
   "mimetype": "text/x-python",
   "name": "python",
   "nbconvert_exporter": "python",
   "pygments_lexer": "ipython3",
   "version": "3.7.4"
  }
 },
 "nbformat": 4,
 "nbformat_minor": 2
}
