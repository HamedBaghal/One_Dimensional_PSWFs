{
 "cells": [
  {
   "cell_type": "code",
   "execution_count": 1,
   "metadata": {},
   "outputs": [],
   "source": [
    "import math"
   ]
  },
  {
   "cell_type": "code",
   "execution_count": 161,
   "metadata": {},
   "outputs": [],
   "source": [
    "import numpy"
   ]
  },
  {
   "cell_type": "code",
   "execution_count": 3,
   "metadata": {},
   "outputs": [],
   "source": [
    "def prolatematrix(c,m): \n",
    "    M=numpy.zeros((m,m))\n",
    "    for i in range(m-2): \n",
    "        M[i,i+2]=(4*(math.pi)**2*c**2)*(i+2)*(i+1)/((2*i+3)*math.sqrt((2*i+5)*(2*i+1)))\n",
    "    for i in range(m):\n",
    "        M[i,i]=(i+1)*i+((4*(math.pi)**2*c**2)*(2*i**2+2*i-1))/((2*i+3)*(2*i-1))\n",
    "    for i in range(m-2):\n",
    "        M[i+2,i]=(4*(math.pi)**2*c**2)*(i+2)*(i+1)/((2*i+3)*math.sqrt((2*i+5)*(2*i+1)))\n",
    "    return M"
   ]
  },
  {
   "cell_type": "code",
   "execution_count": 146,
   "metadata": {},
   "outputs": [],
   "source": [
    "A=prolatematrix(2,5)"
   ]
  },
  {
   "cell_type": "code",
   "execution_count": 147,
   "metadata": {},
   "outputs": [
    {
     "data": {
      "text/plain": [
       "array([[52.63789014,  0.        , 47.08076022,  0.        ,  0.        ],\n",
       "       [ 0.        , 96.74820225,  0.        , 41.3515056 ,  0.        ],\n",
       "       [47.08076022,  0.        , 88.7166845 ,  0.        , 40.35493733],\n",
       "       [ 0.        , 41.3515056 ,  0.        , 92.71143155,  0.        ],\n",
       "       [ 0.        ,  0.        , 40.35493733,  0.        , 99.98224865]])"
      ]
     },
     "execution_count": 147,
     "metadata": {},
     "output_type": "execute_result"
    }
   ],
   "source": [
    "A"
   ]
  },
  {
   "cell_type": "code",
   "execution_count": 188,
   "metadata": {},
   "outputs": [],
   "source": [
    "import numpy as np\n",
    "import numpy.linalg as linalg\n",
    "def coefficientprolate(c,m,n):\n",
    "    A=prolatematrix(c,m)\n",
    "    eigenValues, eigenVectors = linalg.eig(A)\n",
    "    idx = eigenValues.argsort()[::+1]   \n",
    "    eigenValues = eigenValues[idx]\n",
    "    eigenVectors = eigenVectors[:,idx]\n",
    "    return eigenVectors[:,n]"
   ]
  },
  {
   "cell_type": "code",
   "execution_count": 189,
   "metadata": {},
   "outputs": [
    {
     "data": {
      "text/plain": [
       "array([-8.25962692e-01,  1.22377586e-19,  5.37911167e-01, -2.38974539e-19,\n",
       "       -1.65922864e-01,  4.20715667e-19,  2.99117043e-02, -6.02908724e-20,\n",
       "       -3.46753370e-03,  5.76231273e-21,  2.77405070e-04, -3.91004566e-22,\n",
       "       -1.61509774e-05,  1.97320780e-23,  7.12836558e-07, -7.67758192e-25,\n",
       "       -2.46259666e-08,  2.37003913e-26,  6.82781943e-10, -5.93735006e-28])"
      ]
     },
     "execution_count": 189,
     "metadata": {},
     "output_type": "execute_result"
    }
   ],
   "source": [
    "coefficientprolate(1,20,0)"
   ]
  },
  {
   "cell_type": "code",
   "execution_count": 186,
   "metadata": {},
   "outputs": [],
   "source": [
    "from scipy.special import legendre\n",
    "def computeprolate(x,c,m,n):\n",
    "        y=0\n",
    "        W=coefficientprolate(c,m,n)\n",
    "        for k in range(m):\n",
    "            y=y+W[k]*(math.sqrt(k+1/2))*legendre(k)(x)\n",
    "        return y"
   ]
  },
  {
   "cell_type": "code",
   "execution_count": 191,
   "metadata": {},
   "outputs": [
    {
     "data": {
      "text/plain": [
       "-0.9076481468628119"
      ]
     },
     "execution_count": 191,
     "metadata": {},
     "output_type": "execute_result"
    }
   ],
   "source": [
    "computeprolate(.3,1,20,0)"
   ]
  },
  {
   "cell_type": "code",
   "execution_count": 192,
   "metadata": {},
   "outputs": [
    {
     "data": {
      "text/plain": [
       "0.9141422578469391"
      ]
     },
     "execution_count": 192,
     "metadata": {},
     "output_type": "execute_result"
    }
   ],
   "source": [
    "computeprolate(.3,1,20,1)"
   ]
  },
  {
   "cell_type": "code",
   "execution_count": 207,
   "metadata": {},
   "outputs": [
    {
     "data": {
      "image/png": "[encoded data removed]",
      "text/plain": [
       "<Figure size 432x288 with 1 Axes>"
      ]
     },
     "metadata": {
      "needs_background": "light"
     },
     "output_type": "display_data"
    }
   ],
   "source": [
    "import matplotlib.pyplot as plt\n",
    "x = numpy.linspace(-1,1,1000)\n",
    "fig = plt.figure()\n",
    "ax = fig.add_subplot(1, 1, 1)\n",
    "ax.spines['left'].set_position('center')\n",
    "ax.spines['bottom'].set_position('zero')\n",
    "ax.spines['right'].set_color('none')\n",
    "ax.spines['top'].set_color('none')\n",
    "ax.xaxis.set_ticks_position('bottom')\n",
    "ax.yaxis.set_ticks_position('left')\n",
    "\n",
    "plt.plot(x,-computeprolate(x,1,80,0))\n",
    "plt.plot(x,-computeprolate(x,1,80,1))\n",
    "plt.plot(x,-computeprolate(x,1,80,3))\n",
    "# show the plot\n",
    "plt.show()"
   ]
  },
  {
   "cell_type": "code",
   "execution_count": 219,
   "metadata": {},
   "outputs": [],
   "source": [
    "def linearcombevenlegendreatzero(c,m,n):\n",
    "    T=0\n",
    "    W=coefficientprolate(c,m,2*n)\n",
    "    for j in range(m//2 - 1):\n",
    "        T=T+W[2*j]*math.sqrt(2*j+(1/2))*(((-1)**(j))*(math.factorial(2*j)))/(math.factorial(j)*math.factorial(j)*2**(2*j));\n",
    "    return T"
   ]
  },
  {
   "cell_type": "code",
   "execution_count": 220,
   "metadata": {},
   "outputs": [
    {
     "data": {
      "text/plain": [
       "-1.168121076063661"
      ]
     },
     "execution_count": 220,
     "metadata": {},
     "output_type": "execute_result"
    }
   ],
   "source": [
    "linearcombevenlegendreatzero(1,20,0)"
   ]
  },
  {
   "cell_type": "code",
   "execution_count": 244,
   "metadata": {},
   "outputs": [],
   "source": [
    "def linearcomboddlegendreatzero(c,m,n):\n",
    "    T=0\n",
    "    W=coefficientprolate(c,m,2*n+1)\n",
    "    for j in range((m-1)//2):\n",
    "        T=T+W[2*j+1]*math.sqrt(2*j+(3/2))*(((-1)**(j))*(math.factorial(2*j+2)))/(math.factorial(j)*math.factorial(j+1)*2**(2*j+1));\n",
    "    return T"
   ]
  },
  {
   "cell_type": "code",
   "execution_count": 245,
   "metadata": {},
   "outputs": [
    {
     "data": {
      "text/plain": [
       "3.824364607305087"
      ]
     },
     "execution_count": 245,
     "metadata": {},
     "output_type": "execute_result"
    }
   ],
   "source": [
    "linearcomboddlegendreatzero(1,20,0)"
   ]
  },
  {
   "cell_type": "code",
   "execution_count": 246,
   "metadata": {},
   "outputs": [
    {
     "data": {
      "text/plain": [
       "3.8539182384683515"
      ]
     },
     "execution_count": 246,
     "metadata": {},
     "output_type": "execute_result"
    }
   ],
   "source": [
    "linearcomboddlegendreatzero(1,20,1)"
   ]
  },
  {
   "cell_type": "code",
   "execution_count": 252,
   "metadata": {},
   "outputs": [],
   "source": [
    "def eveneigenvalueofprolate(c,m,n):\n",
    "    W=coefficientprolate(c,m,2*n);\n",
    "    y=(W[0]*math.sqrt(2))/(linearcombevenlegendreatzero(c,m,n));\n",
    "    return y"
   ]
  },
  {
   "cell_type": "code",
   "execution_count": 253,
   "metadata": {},
   "outputs": [
    {
     "data": {
      "text/plain": [
       "-0.9794847448264365"
      ]
     },
     "execution_count": 253,
     "metadata": {},
     "output_type": "execute_result"
    }
   ],
   "source": [
    "eveneigenvalueofprolate(1,20,1)"
   ]
  },
  {
   "cell_type": "code",
   "execution_count": 267,
   "metadata": {},
   "outputs": [],
   "source": [
    "def oddeigenvalueofprolate(c,m,n):\n",
    "    W=coefficientprolate(c,m,2*n+1)\n",
    "    y=(1j*W[1]*math.sqrt(2/3)*2*math.pi*c)/(linearcomboddlegendreatzero(c,m,n));\n",
    "    return y"
   ]
  },
  {
   "cell_type": "code",
   "execution_count": 269,
   "metadata": {},
   "outputs": [
    {
     "data": {
      "text/plain": [
       "-0.8495596363434025j"
      ]
     },
     "execution_count": 269,
     "metadata": {},
     "output_type": "execute_result"
    }
   ],
   "source": [
    "oddeigenvalueofprolate(1,20,1)"
   ]
  },
  {
   "cell_type": "code",
   "execution_count": 378,
   "metadata": {},
   "outputs": [],
   "source": [
    "def PlottingEigenvalues(c,m):\n",
    "    T=[]\n",
    "    for i in range(5):\n",
    "        T.append(abs(eveneigenvalueofprolate(c,m,2*i)));\n",
    "        T.append(abs(oddeigenvalueofprolate(c,m,2*i+1)));\n",
    "    return T"
   ]
  },
  {
   "cell_type": "code",
   "execution_count": 379,
   "metadata": {},
   "outputs": [
    {
     "data": {
      "text/plain": [
       "[0.9999713762673926,\n",
       " 0.8495596244771311,\n",
       " 0.5240858962282898,\n",
       " 0.013675836121292681,\n",
       " 0.00273232874312248,\n",
       " 1.0952729545629826e-05,\n",
       " 1.4394698909346405e-06,\n",
       " 2.059215899130224e-09,\n",
       " 2.025015384268988e-10,\n",
       " 1.3542372991659015e-13]"
      ]
     },
     "execution_count": 379,
     "metadata": {},
     "output_type": "execute_result"
    }
   ],
   "source": [
    "PlottingEigenvalues(1,40)"
   ]
  },
  {
   "cell_type": "code",
   "execution_count": 380,
   "metadata": {},
   "outputs": [
    {
     "data": {
      "image/png": "[encoded data removed]",
      "text/plain": [
       "<Figure size 432x288 with 1 Axes>"
      ]
     },
     "metadata": {
      "needs_background": "light"
     },
     "output_type": "display_data"
    }
   ],
   "source": [
    "x = numpy.linspace(-1,1,100)\n",
    "fig = plt.figure()\n",
    "ax = fig.add_subplot(1, 1, 1)\n",
    "#ax.spines['left'].set_position('center')\n",
    "ax.spines['bottom'].set_position('zero')\n",
    "ax.spines['right'].set_color('none')\n",
    "ax.spines['top'].set_color('none')\n",
    "ax.xaxis.set_ticks_position('bottom')\n",
    "ax.yaxis.set_ticks_position('left')\n",
    "\n",
    "plt.plot(PlottingEigenvalues(1,40))\n",
    "plt.plot(PlottingEigenvalues(2,40))\n",
    "# show the plot\n",
    "plt.show()"
   ]
  },
  {
   "cell_type": "code",
   "execution_count": null,
   "metadata": {},
   "outputs": [],
   "source": []
  }
 ],
 "metadata": {
  "kernelspec": {
   "display_name": "Python 3.7.4 64-bit ('hamedTen': conda)",
   "language": "python",
   "name": "python37464bithamedtenconda998346e31f6b4d3cbde9e37b35089b84"
  },
  "language_info": {
   "codemirror_mode": {
    "name": "ipython",
    "version": 3
   },
   "file_extension": ".py",
   "mimetype": "text/x-python",
   "name": "python",
   "nbconvert_exporter": "python",
   "pygments_lexer": "ipython3",
   "version": "3.7.4"
  }
 },
 "nbformat": 4,
 "nbformat_minor": 2
}
